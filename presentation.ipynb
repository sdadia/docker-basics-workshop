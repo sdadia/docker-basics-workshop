{
 "cells": [
  {
   "cell_type": "markdown",
   "metadata": {
    "slideshow": {
     "slide_type": "slide"
    }
   },
   "source": [
    "# Docker Basics"
   ]
  },
  {
   "cell_type": "markdown",
   "metadata": {
    "slideshow": {
     "slide_type": "slide"
    }
   },
   "source": [
    "## Agenda\n",
    "\n",
    "* What is containerization?\n",
    "* Why we need containerization?\n",
    "* What is docker?\n",
    "* Installing Docker (Linux, Mac only)\n",
    "* Dockerfile Jupyter example - creating and running"
   ]
  },
  {
   "cell_type": "markdown",
   "metadata": {
    "slideshow": {
     "slide_type": "slide"
    }
   },
   "source": [
    "## What is containerization ?\n",
    "\n",
    "\n",
    "* Containers are programs with all dependencies installed. (like those of windows, where you click Next)\n",
    "* Like Virtual-Machines, but lighter.\n",
    "\n",
    "![cont-1](https://www.panda3d.org/manual/images/9/98/Install-1.jpg)"
   ]
  },
  {
   "cell_type": "markdown",
   "metadata": {
    "slideshow": {
     "slide_type": "slide"
    }
   },
   "source": [
    "## Why would you need containers?\n",
    "\n",
    "* Analysis with Jupyter notebook which you want to share with your friends, so they can tinker around with it and run it themselves.\n",
    "\n",
    "![need-1](https://sigmoidal.io/wp-content/uploads/2017/03/jupyter_notebook-spectral1.png)\n",
    "\n"
   ]
  },
  {
   "cell_type": "markdown",
   "metadata": {
    "slideshow": {
     "slide_type": "slide"
    }
   },
   "source": [
    "## Issues\n",
    "\n",
    "* First they will have to setup/install correct libraries (specific versions)\n",
    "* Everyone might be on different OS - different instructions for all (Linux, Windows, Mac)\n",
    "* Each person had to do that by himself\n",
    "\n",
    "## Containers Solve these Issues\n",
    "\n",
    "* Software Dependency Resolution (OS, Libraries)\n",
    "* No Setup Time"
   ]
  },
  {
   "cell_type": "markdown",
   "metadata": {
    "slideshow": {
     "slide_type": "slide"
    }
   },
   "source": [
    "## What is Docker?\n",
    "\n",
    "* Company which provides this containerization technology - a synonym for containerization\n",
    "\n",
    "![docker-1](https://encrypted-tbn0.gstatic.com/images?q=tbn:ANd9GcSPcxNTEBP0Dd-5Gv6wWA6TYalicfejK1c7Y-07FiYOx-G8-SyQNQ)\n",
    "\n",
    "* Other compaies do exist : \n",
    "    * rkt (aka rocket)\n",
    "    * Mesos Containers\n",
    "    * Windows Server Containers"
   ]
  },
  {
   "cell_type": "markdown",
   "metadata": {
    "slideshow": {
     "slide_type": "slide"
    }
   },
   "source": [
    "## Installing Docker\n",
    "\n",
    "### Ubuntu "
   ]
  },
  {
   "cell_type": "code",
   "execution_count": null,
   "metadata": {},
   "outputs": [],
   "source": [
    "sudo apt-get update\n",
    "# install\n",
    "sudo apt install docker.io \n",
    "# enable docker when system boots up\n",
    "sudo systemctl start docker\n",
    "sudo systemctl enable docker\n",
    "# check version\n",
    "docker --version"
   ]
  },
  {
   "cell_type": "markdown",
   "metadata": {},
   "source": [
    "### MAC\n",
    "\n",
    "Go to this link and download the stable version"
   ]
  },
  {
   "cell_type": "code",
   "execution_count": null,
   "metadata": {},
   "outputs": [],
   "source": [
    "https://docs.docker.com/v17.12/docker-for-mac/install/#download-docker-for-mac"
   ]
  },
  {
   "cell_type": "markdown",
   "metadata": {
    "slideshow": {
     "slide_type": "slide"
    }
   },
   "source": [
    "## Demo Create containers"
   ]
  },
  {
   "cell_type": "code",
   "execution_count": null,
   "metadata": {},
   "outputs": [],
   "source": [
    "docker pull ubuntu"
   ]
  },
  {
   "cell_type": "markdown",
   "metadata": {},
   "source": [
    "![doc1](./images/pic1.png)"
   ]
  },
  {
   "cell_type": "code",
   "execution_count": null,
   "metadata": {
    "slideshow": {
     "slide_type": "slide"
    }
   },
   "outputs": [],
   "source": [
    "docker images"
   ]
  },
  {
   "cell_type": "markdown",
   "metadata": {},
   "source": [
    "![pic4](./images/pic4.png)"
   ]
  },
  {
   "cell_type": "code",
   "execution_count": null,
   "metadata": {
    "slideshow": {
     "slide_type": "slide"
    }
   },
   "outputs": [],
   "source": [
    "docker run -it ubuntu bash"
   ]
  },
  {
   "cell_type": "markdown",
   "metadata": {},
   "source": [
    "![pic2](./images/pic2.png)"
   ]
  },
  {
   "cell_type": "code",
   "execution_count": null,
   "metadata": {
    "slideshow": {
     "slide_type": "slide"
    }
   },
   "outputs": [],
   "source": [
    "docker ps"
   ]
  },
  {
   "cell_type": "markdown",
   "metadata": {},
   "source": [
    "![pic3](./images/pic3.png)"
   ]
  },
  {
   "cell_type": "markdown",
   "metadata": {
    "slideshow": {
     "slide_type": "slide"
    }
   },
   "source": [
    "Try out different docker images\n",
    "\n",
    "* docker pull python\n",
    "* docker pull postgres\n",
    "* docker pull "
   ]
  },
  {
   "cell_type": "markdown",
   "metadata": {
    "slideshow": {
     "slide_type": "slide"
    }
   },
   "source": [
    "## Dockerfiles"
   ]
  },
  {
   "cell_type": "markdown",
   "metadata": {},
   "source": [
    "Dockerfile (text file) create docker images which we run as containers"
   ]
  },
  {
   "cell_type": "markdown",
   "metadata": {},
   "source": [
    "![pic5](./images/pic5.png)"
   ]
  },
  {
   "cell_type": "markdown",
   "metadata": {
    "slideshow": {
     "slide_type": "slide"
    }
   },
   "source": [
    "## Lets Create our Own Jupyter Dockerfile"
   ]
  },
  {
   "cell_type": "markdown",
   "metadata": {},
   "source": [
    "Create a file called **Dockerfile** and paste the following lines,"
   ]
  },
  {
   "cell_type": "code",
   "execution_count": null,
   "metadata": {},
   "outputs": [],
   "source": [
    "FROM ubuntu\n",
    "\n",
    "RUN apt-get update\n",
    "RUN apt-get upgrade -y\n",
    "\n",
    "RUN apt-get install -y python3 python3-dev python3-pip"
   ]
  },
  {
   "cell_type": "markdown",
   "metadata": {},
   "source": [
    "Create the image using,"
   ]
  },
  {
   "cell_type": "code",
   "execution_count": null,
   "metadata": {},
   "outputs": [],
   "source": [
    "docker build . -t my_python_image"
   ]
  },
  {
   "cell_type": "markdown",
   "metadata": {},
   "source": [
    "Check if the image is built using,"
   ]
  },
  {
   "cell_type": "code",
   "execution_count": null,
   "metadata": {},
   "outputs": [],
   "source": [
    "docker images"
   ]
  },
  {
   "cell_type": "markdown",
   "metadata": {
    "slideshow": {
     "slide_type": "slide"
    }
   },
   "source": [
    "## Now we can install all our popular python packages"
   ]
  },
  {
   "cell_type": "markdown",
   "metadata": {},
   "source": [
    "Rebuild the image using the same command as previous time"
   ]
  },
  {
   "cell_type": "code",
   "execution_count": null,
   "metadata": {},
   "outputs": [],
   "source": [
    "FROM ubuntu\n",
    "\n",
    "RUN apt-get update\n",
    "RUN apt-get upgrade -y\n",
    "\n",
    "RUN apt-get install -y python3 python3-dev python3-pip\n",
    "\n",
    "RUN pip3 install jupyter pandas numpy scipy"
   ]
  },
  {
   "cell_type": "markdown",
   "metadata": {
    "slideshow": {
     "slide_type": "slide"
    }
   },
   "source": [
    "You will notice that only the new line is run. All previous instructions are loaded from cache.\n",
    "So only new changes are run henceforth."
   ]
  },
  {
   "cell_type": "markdown",
   "metadata": {},
   "source": [
    "![pic6](./images/pic6.png)"
   ]
  },
  {
   "cell_type": "markdown",
   "metadata": {
    "slideshow": {
     "slide_type": "slide"
    }
   },
   "source": [
    "## Lets run the Docker container with jupyter notebook"
   ]
  },
  {
   "cell_type": "markdown",
   "metadata": {},
   "source": [
    "Add the entrypoint command and rebuild the image"
   ]
  },
  {
   "cell_type": "code",
   "execution_count": null,
   "metadata": {},
   "outputs": [],
   "source": [
    "FROM ubuntu\n",
    "\n",
    "RUN apt-get update\n",
    "RUN apt-get upgrade -y\n",
    "\n",
    "RUN apt-get install -y python3 python3-dev python3-pip\n",
    "\n",
    "RUN pip3 install jupyter numpy\n",
    "\n",
    "ENTRYPOINT [\"jupyter\", \"notebook\", \"--ip=0.0.0.0\" , \"--allow-root\", \"--port=8889\"]"
   ]
  },
  {
   "cell_type": "markdown",
   "metadata": {
    "slideshow": {
     "slide_type": "slide"
    }
   },
   "source": [
    "## Run the container"
   ]
  },
  {
   "cell_type": "markdown",
   "metadata": {
    "slideshow": {
     "slide_type": "-"
    }
   },
   "source": [
    "We have mapped the port 8889 which is on the contaier to port 8889 on the host"
   ]
  },
  {
   "cell_type": "code",
   "execution_count": null,
   "metadata": {},
   "outputs": [],
   "source": [
    "docker run -p HOST_PORT:CONTAINER_PORT image-name"
   ]
  },
  {
   "cell_type": "code",
   "execution_count": null,
   "metadata": {},
   "outputs": [],
   "source": [
    "docker run -p 8889:8889 my_python_image"
   ]
  },
  {
   "cell_type": "markdown",
   "metadata": {},
   "source": [
    "![pic8](./images/pic8.png)"
   ]
  },
  {
   "cell_type": "markdown",
   "metadata": {
    "slideshow": {
     "slide_type": "slide"
    }
   },
   "source": [
    "## Persisting Data"
   ]
  },
  {
   "cell_type": "markdown",
   "metadata": {},
   "source": [
    "If we want to save our files, we will attach a folder from our computer to another folder inside the docker container. Create a directory called  **my-data** in your computer, we will store all our jupyter notebook analysis in here."
   ]
  },
  {
   "cell_type": "code",
   "execution_count": null,
   "metadata": {},
   "outputs": [],
   "source": [
    "docker run -v /HOST/DIRECTORY/FULL/PATH:/container/directory image-name"
   ]
  },
  {
   "cell_type": "code",
   "execution_count": null,
   "metadata": {},
   "outputs": [],
   "source": [
    "docker run -p 8889:8889 -v \"$(pwd)/my-data/\":/home/ my_python_image"
   ]
  },
  {
   "cell_type": "markdown",
   "metadata": {},
   "source": [
    "![pic7](./images/pic7.png)"
   ]
  }
 ],
 "metadata": {
  "kernelspec": {
   "display_name": "Python 3",
   "language": "python",
   "name": "python3"
  },
  "language_info": {
   "codemirror_mode": {
    "name": "ipython",
    "version": 3
   },
   "file_extension": ".py",
   "mimetype": "text/x-python",
   "name": "python",
   "nbconvert_exporter": "python",
   "pygments_lexer": "ipython3",
   "version": "3.7.3"
  }
 },
 "nbformat": 4,
 "nbformat_minor": 2
}
